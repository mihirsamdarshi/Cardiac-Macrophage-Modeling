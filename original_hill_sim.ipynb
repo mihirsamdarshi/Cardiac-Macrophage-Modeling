{
 "cells": [
  {
   "cell_type": "markdown",
   "metadata": {},
   "source": [
    "## Cardiac Regulatory Network for CMRG\n",
    "### CRNC developed by Shulin Cao\n",
    "### Only for use in CMRG"
   ]
  },
  {
   "cell_type": "code",
   "execution_count": 15,
   "metadata": {},
   "outputs": [],
   "source": [
    "###------Network Simulator------###\n",
    "###------Shulin Cao------###\n",
    "###------CMRG, UC San Diego------###\n",
    "\n",
    "###import packages###\n",
    "import pandas as pd\n",
    "import collections\n",
    "import timeit\n",
    "from scipy.integrate import solve_ivp\n",
    "from scipy.integrate import odeint\n",
    "import matplotlib.pyplot as plt\n",
    "import networkx as nx\n",
    "import matplotlib.mlab as mlab\n",
    "import statistics\n",
    "import random\n",
    "import numpy.linalg\n",
    "import numpy as np\n",
    "import sys\n",
    "from pyswarm import pso\n",
    "from scipy.optimize import minimize\n",
    "elapsed_time = timeit.default_timer()\n",
    "from sklearn.linear_model import LinearRegression\n",
    "from sklearn import cluster\n",
    "import seaborn as sns\n",
    "sns.set()\n",
    "from sklearn import datasets\n",
    "from sklearn.metrics import r2_score"
   ]
  },
  {
   "cell_type": "code",
   "execution_count": 16,
   "metadata": {},
   "outputs": [],
   "source": [
    "def get_reactors(reac):\n",
    "    reac_split = reac.split(' ')\n",
    "    reactors = []\n",
    "    for k in reac_split:\n",
    "        if k != '&' and k!= '=>':\n",
    "            reactors.append(k)\n",
    "    return reactors[:-1]\n",
    "\n",
    "\n",
    "def Hill(reactor, n, EC50):\n",
    "    B = (EC50**n-1)/(2*EC50**n-1)\n",
    "    C = (B-1)**(1/n)\n",
    "    if reactor[0] == '!':\n",
    "        return (1-B*globals()['{}'.format(reactor[1:])]**n/(C**n + globals()['{}'.format(reactor[1:])]**n))\n",
    "    else:\n",
    "        return B*globals()['{}'.format(reactor)]**n/(C**n + globals()['{}'.format(reactor)]**n)\n",
    "\n",
    "\n",
    "def OR(reaction_list):\n",
    "    tera = (-1)**(len(reaction_list)+1)\n",
    "    for k in reaction_list:\n",
    "        weight, n, EC50 = reaction_list[k]\n",
    "        final = weight\n",
    "        for j in get_reactors(k):\n",
    "            final *= Hill(j, n, EC50)\n",
    "        tera *= (final-1)\n",
    "    tera +=1\n",
    "    return tera"
   ]
  },
  {
   "cell_type": "code",
   "execution_count": 17,
   "metadata": {},
   "outputs": [],
   "source": [
    "def inte(state,t,reaction_dict):\n",
    "    for i in range(len(node_ID)):\n",
    "        globals()['{}'.format(node_ID[i])] = state[i]\n",
    "    for i in range(len(node_ID)):\n",
    "        if len(reaction_dict[node_ID[i]]) == 1:\n",
    "            reactors = get_reactors(list(reaction_dict[node_ID[i]].keys())[0])\n",
    "            weight, n, EC50 = reaction_dict[node_ID[i]][list(reaction_dict[node_ID[i]].keys())[0]]\n",
    "            TF = 1\n",
    "            for j in reactors:\n",
    "                TF *= Hill(j, n, EC50)\n",
    "            globals()['{}'.format(node_ID[i] + 'd')] = (TF*weight*Ymax[i]-globals()['{}'.format(node_ID[i])])/tau[i]\n",
    "        else:\n",
    "            TF = OR(reaction_dict[node_ID[i]])\n",
    "            globals()['{}'.format(node_ID[i] + 'd')] = (TF*Ymax[i]-globals()['{}'.format(node_ID[i])])/tau[i]\n",
    "        #print(str(i)+' finished')\n",
    "    return [globals()['{}'.format(k+ 'd')] for k in node_ID]"
   ]
  },
  {
   "cell_type": "code",
   "execution_count": 18,
   "metadata": {},
   "outputs": [],
   "source": [
    "def hill_simulation( t, state0, reaction_dict):\n",
    "    yHill_ss = odeint(inte, state0, t, args = (reaction_dict,))\n",
    "    print('Hill Finished')\n",
    "    return yHill_ss"
   ]
  },
  {
   "cell_type": "code",
   "execution_count": null,
   "metadata": {},
   "outputs": [],
   "source": []
  },
  {
   "cell_type": "code",
   "execution_count": null,
   "metadata": {},
   "outputs": [],
   "source": []
  },
  {
   "cell_type": "code",
   "execution_count": 19,
   "metadata": {},
   "outputs": [],
   "source": [
    "###################-------------------------------###################\n",
    "###################----------Loading Data---------###################\n",
    "###################-------------------------------###################\n",
    "\n",
    "fickstest = '/Users/mihir/Documents/Summer/Models/fickstest.xlsx'\n",
    "\n",
    "reactions = pd.read_excel(fickstest, sheet_name = 1, skiprows = 1, header = 0)\n",
    "species = pd.read_excel(fickstest, sheet_name = 0, skiprows = 1, header = 0)\n",
    "pmid = reactions['PMID'].tolist()\n",
    "reactions = reactions[['Rule', 'Weight', 'n', 'EC50']]\n",
    "species = species[['ID', 'Yinit', 'Ymax', 'tau']]\n",
    "node_ID = species['ID'].tolist()\n",
    "Yinit = species['Yinit'].tolist()\n",
    "Ymax = species['Ymax'].tolist()\n",
    "Ymax2 = species['Ymax'].tolist()\n",
    "tau = species['tau'].tolist()\n",
    "\n",
    "reaction_dict = collections.defaultdict(dict)\n",
    "for k in range(len(reactions)):\n",
    "    node = reactions.loc[k, 'Rule'].split(' ')\n",
    "    reaction_dict[node[-1]][reactions.loc[k, 'Rule']] = reactions.loc[k, ['Weight', 'n', 'EC50']].tolist()\n",
    "\n",
    "\n",
    "species_dict = dict()\n",
    "for k in range(len(species)):\n",
    "    #lis = species.loc[k, ['Yinit', 'Ymax', 'tau']].tolist()\n",
    "    species_dict[species.loc[k, 'ID']] = species.loc[k, ['Yinit', 'Ymax', 'tau']].tolist()\n",
    "\n",
    "\n",
    "y0_MA = []\n",
    "y30m_MA = []\n",
    "y30m_MA_trans = []\n",
    "y4h_MA = []\n",
    "y4h_MA_trans = []\n",
    "for i in range(len(node_ID)):\n",
    "    y0_MA.append(Yinit[i])\n",
    "    y30m_MA.append(Yinit[i])\n",
    "    y30m_MA_trans.append(Yinit[i])\n",
    "    y4h_MA.append(Yinit[i])\n",
    "    y4h_MA_trans.append(Yinit[i])"
   ]
  },
  {
   "cell_type": "code",
   "execution_count": 20,
   "metadata": {},
   "outputs": [],
   "source": [
    "geneinput = {i:0 for i in node_ID[98:]}"
   ]
  },
  {
   "cell_type": "code",
   "execution_count": 21,
   "metadata": {},
   "outputs": [],
   "source": [
    "for j in node_ID[98:]:\n",
    "    for k in reaction_dict[j]:\n",
    "        if '!' in k:\n",
    "            geneinput[j] = 0.5\n",
    "            break"
   ]
  },
  {
   "cell_type": "code",
   "execution_count": 22,
   "metadata": {},
   "outputs": [],
   "source": [
    "a = []\n",
    "b = []\n",
    "for j in node_ID[98:]:\n",
    "    a.append(j)\n",
    "    b.append(geneinput[j])\n",
    "ab = pd.DataFrame(data = {'Gene': a, 'Init':b})"
   ]
  },
  {
   "cell_type": "code",
   "execution_count": 23,
   "metadata": {},
   "outputs": [],
   "source": [
    "ab.to_csv('./initial_ariel.csv', index = False)"
   ]
  },
  {
   "cell_type": "markdown",
   "metadata": {},
   "source": [
    "### Step 1 Finalize the baseline"
   ]
  },
  {
   "cell_type": "code",
   "execution_count": 24,
   "metadata": {},
   "outputs": [
    {
     "name": "stdout",
     "output_type": "stream",
     "text": [
      "Hill Finished\n"
     ]
    }
   ],
   "source": [
    "state0 = []\n",
    "for k in range(len(node_ID)):\n",
    "    state0.append(Yinit[k])  #solve_ivp\n",
    "\n",
    "t = np.arange(0.0, 10, 0.01)\n",
    "yHill_ss = hill_simulation(t, state0, reaction_dict)"
   ]
  },
  {
   "cell_type": "markdown",
   "metadata": {},
   "source": [
    "### Basic Plots"
   ]
  },
  {
   "cell_type": "code",
   "execution_count": 25,
   "metadata": {},
   "outputs": [
    {
     "data": {
      "image/png": "[encoded data removed]",
      "text/plain": [
       "<Figure size 864x288 with 1 Axes>"
      ]
     },
     "metadata": {},
     "output_type": "display_data"
    }
   ],
   "source": [
    "whatToDisplay = 1\n",
    "k = 12000\n",
    "plt.figure(figsize=(12,4))\n",
    "plt.subplot(121)\n",
    "plt.plot(t[:k], yHill_ss[:k,whatToDisplay], label = node_ID[whatToDisplay])\n",
    "plt.legend(loc='best')\n",
    "plt.show()"
   ]
  },
  {
   "cell_type": "code",
   "execution_count": null,
   "metadata": {},
   "outputs": [],
   "source": []
  },
  {
   "cell_type": "code",
   "execution_count": null,
   "metadata": {},
   "outputs": [],
   "source": []
  },
  {
   "cell_type": "markdown",
   "metadata": {},
   "source": [
    "### Contigency Tables"
   ]
  },
  {
   "cell_type": "code",
   "execution_count": 83,
   "metadata": {},
   "outputs": [
    {
     "data": {
      "image/png": "[encoded data removed]",
      "text/plain": [
       "<Figure size 432x288 with 1 Axes>"
      ]
     },
     "metadata": {},
     "output_type": "display_data"
    }
   ],
   "source": [
    "plt.scatter(np.log2(np.array(y4h_MA)[with_data]/np.array(y0_MA)[with_data]), np.log2(y240_MA[2399,with_data]/np.array(y0_MA)[with_data]))\n",
    "plt.show()"
   ]
  },
  {
   "cell_type": "code",
   "execution_count": 145,
   "metadata": {},
   "outputs": [
    {
     "data": {
      "text/plain": [
       "array([4.73995635e+02, 4.68969891e+02, 1.38148265e+02, 4.79887157e+01,\n",
       "       2.96570239e+01, 1.16062106e+02, 2.44917247e+02, 4.84881396e+02,\n",
       "       2.69549406e+02, 7.78443795e+01, 1.33220797e+01, 1.54787383e+01,\n",
       "       4.56137827e+00, 1.08430737e+02, 1.35521102e+03, 7.94355976e+02,\n",
       "       6.22981815e+01, 3.68233871e+01, 9.61232916e+01, 1.06721115e+01,\n",
       "       3.24327315e+01, 3.35453349e+03, 2.46938744e+02, 8.05277010e+01,\n",
       "       4.00970309e+01, 5.63123204e+01, 4.95339433e+02, 4.55127216e+01,\n",
       "       1.98470742e+01, 1.55097460e+00, 9.28245424e+03, 4.89671421e+01])"
      ]
     },
     "execution_count": 145,
     "metadata": {},
     "output_type": "execute_result"
    }
   ],
   "source": [
    "y240_MA[2399,84:]"
   ]
  },
  {
   "cell_type": "code",
   "execution_count": 86,
   "metadata": {},
   "outputs": [
    {
     "data": {
      "text/plain": [
       "8.655067027274901"
      ]
     },
     "execution_count": 86,
     "metadata": {},
     "output_type": "execute_result"
    }
   ],
   "source": [
    "max(np.log2(y240_MA[2399,:]/np.array(y0_MA)))"
   ]
  },
  {
   "cell_type": "code",
   "execution_count": 87,
   "metadata": {},
   "outputs": [],
   "source": [
    "contingency_table = []\n",
    "for i in np.arange(0,9,0.01):\n",
    "    mm = i\n",
    "    c_1 = 0\n",
    "    c_2 = 0\n",
    "    c_3 = 0\n",
    "    c_4 = 0\n",
    "    c_5 = 0\n",
    "    c_6 = 0\n",
    "    c_7 = 0\n",
    "    c_8 = 0\n",
    "    c_9 = 0\n",
    "    for i in with_data:\n",
    "        new_gene = node_ID[i][5:]\n",
    "        if list(RNA_raw[RNA_raw['Symbol'] == new_gene]['q_value.3'])[0]>alpha:\n",
    "            if np.log2(y240_MA[2399,i]/np.array(y0_MA)[i])>=mm:\n",
    "                c_2 += 1\n",
    "            elif np.log2(y240_MA[2399,i]/np.array(y0_MA)[i])<=-mm:\n",
    "                c_8 += 1\n",
    "            else:\n",
    "                c_5 += 1\n",
    "        else:\n",
    "            if (RNA_raw[RNA_raw['Symbol'] == new_gene]['4h_Long_Avg']>=y0_MA[i]).bool() and np.log2(y240_MA[2399,i]/np.array(y0_MA)[i])>=mm:\n",
    "                c_1 += 1\n",
    "            elif (RNA_raw[RNA_raw['Symbol'] == new_gene]['4h_Long_Avg']<=y0_MA[i]).bool() and np.log2(y240_MA[2399,i]/np.array(y0_MA)[i])>=mm:\n",
    "                c_3 += 1\n",
    "            elif (RNA_raw[RNA_raw['Symbol'] == new_gene]['4h_Long_Avg']>=y0_MA[i]).bool() and np.log2(y240_MA[2399,i]/np.array(y0_MA)[i])<=-mm:\n",
    "                c_7 += 1\n",
    "            elif (RNA_raw[RNA_raw['Symbol'] == new_gene]['4h_Long_Avg']<=y0_MA[i]).bool() and np.log2(y240_MA[2399,i]/np.array(y0_MA)[i])<=-mm:\n",
    "                c_9 += 1\n",
    "            elif (RNA_raw[RNA_raw['Symbol'] == new_gene]['4h_Long_Avg']>=y0_MA[i]).bool() and abs(np.log2(y240_MA[2399,i]/np.array(y0_MA)[i]))<mm:\n",
    "                c_4 += 1\n",
    "            else:\n",
    "                c_6 += 1\n",
    "    contingency_table.append([c_1, c_2, c_3, c_4, c_5, c_6, c_7, c_8, c_9])"
   ]
  },
  {
   "cell_type": "code",
   "execution_count": 88,
   "metadata": {},
   "outputs": [],
   "source": [
    "tpr = []\n",
    "fpr = []\n",
    "for i in contingency_table:\n",
    "    tp = i[0]+i[2]+i[6]+i[8]\n",
    "    fp = i[1]+i[7]\n",
    "    fn = i[3]+i[5]\n",
    "    tn = i[4]\n",
    "    tpr.append(tp/(tp+fn))\n",
    "    fpr.append(fp/(fp+tn))"
   ]
  },
  {
   "cell_type": "code",
   "execution_count": 89,
   "metadata": {},
   "outputs": [
    {
     "data": {
      "image/png": "[encoded data removed]",
      "text/plain": [
       "<Figure size 432x288 with 1 Axes>"
      ]
     },
     "metadata": {},
     "output_type": "display_data"
    }
   ],
   "source": [
    "plt.plot(fpr, tpr, label = 'on DEG')\n",
    "plt.plot(fpr_all, tpr_all, label = 'on All Genes')\n",
    "plt.plot(np.arange(0,1.01,0.01),np.arange(0,1.01,0.01), label = 'Unity Line')\n",
    "plt.legend(loc='best')\n",
    "plt.show()"
   ]
  },
  {
   "cell_type": "code",
   "execution_count": 74,
   "metadata": {},
   "outputs": [
    {
     "data": {
      "text/plain": [
       "[100, 527, 14, 0, 0, 0, 10, 128, 5]"
      ]
     },
     "execution_count": 74,
     "metadata": {},
     "output_type": "execute_result"
    }
   ],
   "source": [
    "contingency_table[0]"
   ]
  },
  {
   "cell_type": "code",
   "execution_count": null,
   "metadata": {},
   "outputs": [],
   "source": []
  },
  {
   "cell_type": "code",
   "execution_count": null,
   "metadata": {},
   "outputs": [],
   "source": []
  },
  {
   "cell_type": "code",
   "execution_count": null,
   "metadata": {},
   "outputs": [],
   "source": []
  },
  {
   "cell_type": "code",
   "execution_count": null,
   "metadata": {},
   "outputs": [],
   "source": []
  },
  {
   "cell_type": "code",
   "execution_count": null,
   "metadata": {},
   "outputs": [],
   "source": []
  },
  {
   "cell_type": "markdown",
   "metadata": {},
   "source": [
    "## DEGenes"
   ]
  },
  {
   "cell_type": "code",
   "execution_count": 31,
   "metadata": {},
   "outputs": [],
   "source": [
    "DEG = []\n",
    "for i in range(len(node_ID)):\n",
    "    if node_ID[i][5:] in RNA_symbols and RNA[RNA['Symbol']==node_ID[i][5:]]['DE?'].bool()==True:\n",
    "        DEG.append(i)"
   ]
  },
  {
   "cell_type": "code",
   "execution_count": 32,
   "metadata": {},
   "outputs": [
    {
     "name": "stdout",
     "output_type": "stream",
     "text": [
      "85 gene_6430548M08Rik\n",
      "108 gene_Amotl2\n",
      "210 gene_Crim1\n",
      "215 gene_Csrp3\n",
      "289 gene_Fosb\n",
      "291 gene_Fosl2\n",
      "367 gene_Jun\n",
      "414 gene_Map2k3\n",
      "416 gene_Mapk6\n",
      "480 gene_Nptx1\n",
      "618 gene_Sntb1\n",
      "633 gene_Srm\n",
      "662 gene_Tgfb3\n",
      "688 gene_Trim54\n",
      "723 gene_Zfp36\n"
     ]
    }
   ],
   "source": [
    "for i in DEG:\n",
    "    if abs(y240_MA[2399,i]-y4h_MA[i])/y4h_MA[i] <= 0.1:\n",
    "        print(i, node_ID[i])"
   ]
  },
  {
   "cell_type": "markdown",
   "metadata": {},
   "source": [
    "## Fig S3\n",
    "### 210, 480, 487 can be used for demo"
   ]
  },
  {
   "cell_type": "code",
   "execution_count": 33,
   "metadata": {},
   "outputs": [
    {
     "name": "stdout",
     "output_type": "stream",
     "text": [
      "gene_Map2k3 1.4865638375744814 1.6468506268776002\n",
      "gene_Map2k3 1.0741936887393675 1.2461877136271846\n"
     ]
    }
   ],
   "source": [
    "i = 414\n",
    "print(node_ID[i], y240_MA[2399,i]/y0_MA[i], y4h_MA[i]/y0_MA[i])\n",
    "print(node_ID[i], y240_MA[299,i]/y0_MA[i], y30m_MA[i]/y0_MA[i])"
   ]
  },
  {
   "cell_type": "code",
   "execution_count": 35,
   "metadata": {},
   "outputs": [
    {
     "data": {
      "image/png": "[encoded data removed]",
      "text/plain": [
       "<Figure size 432x288 with 1 Axes>"
      ]
     },
     "metadata": {},
     "output_type": "display_data"
    }
   ],
   "source": [
    "plt.plot(t_MA[:2400], y240_MA[:2400,215]/y0_MA[215])\n",
    "plt.scatter([30,240], [y30m_MA[215]/y0_MA[215], y4h_MA[215]/y0_MA[215]], label = 'Experiment Measurement')\n",
    "plt.legend(loc = 'best')\n",
    "plt.title(node_ID[215] + ' expression')\n",
    "plt.xlabel('Time (min)')\n",
    "plt.ylabel('Fold Change')\n",
    "plt.show()"
   ]
  },
  {
   "cell_type": "code",
   "execution_count": 36,
   "metadata": {},
   "outputs": [
    {
     "data": {
      "image/png": "[encoded data removed]",
      "text/plain": [
       "<Figure size 432x288 with 1 Axes>"
      ]
     },
     "metadata": {},
     "output_type": "display_data"
    }
   ],
   "source": [
    "plt.plot(t_MA[:2400], y240_MA[:2400,291]/y0_MA[291])\n",
    "plt.scatter([30,240], [y30m_MA[291]/y0_MA[291], y4h_MA[291]/y0_MA[291]], label = 'Experiment Measurement')\n",
    "plt.legend(loc = 'best')\n",
    "plt.title(node_ID[291] + ' expression')\n",
    "plt.xlabel('Time (min)')\n",
    "plt.ylabel('Fold Change')\n",
    "plt.show()"
   ]
  },
  {
   "cell_type": "markdown",
   "metadata": {},
   "source": [
    "## Fig7 sensitivity analysis"
   ]
  },
  {
   "cell_type": "code",
   "execution_count": null,
   "metadata": {},
   "outputs": [],
   "source": []
  },
  {
   "cell_type": "code",
   "execution_count": 44,
   "metadata": {},
   "outputs": [],
   "source": [
    "def get_relation(reac):\n",
    "    split_reac = reac.split(' ')\n",
    "    if len(split_reac) ==2:\n",
    "        return ['Input', split_reac[1]]\n",
    "    else:\n",
    "        reactor = []\n",
    "        for k in split_reac[:-2]:\n",
    "            if k!= '&':\n",
    "                reactor.append(getout_inhib(k))\n",
    "        return [reactor, split_reac[-1]]\n",
    "def getout_inhib(node):\n",
    "    if node[0] == '!':\n",
    "        return node[1:]\n",
    "    else:\n",
    "        return node"
   ]
  },
  {
   "cell_type": "code",
   "execution_count": 45,
   "metadata": {},
   "outputs": [],
   "source": [
    "rules = reactions['rule'].tolist()\n",
    "relationship = []\n",
    "for k in rules:\n",
    "    if get_relation(k)[0] == 'Input':\n",
    "        relationship.append(tuple(get_relation(k)+[node_ID.index(get_relation(k)[1])]))\n",
    "    else:\n",
    "        for i in get_relation(k)[0]:\n",
    "            relationship.append((i, get_relation(k)[1], node_ID.index(get_relation(k)[1])))\n",
    "xxx = pd.DataFrame(columns = ['Start', 'End', 'End_Index'])\n",
    "for i in relationship:\n",
    "    xxx.loc[len(xxx)] = list(i)\n",
    "revi_xxx = xxx.loc[xxx['End_Index'].isin(with_data)]\n",
    "transcription_factors = ['CREB', 'NFkB', 'NFAT', 'GATA4', 'MEF2', 'cFos', 'cJun', 'cMyc', 'SRF', 'FoxO', 'STAT']"
   ]
  },
  {
   "cell_type": "code",
   "execution_count": 46,
   "metadata": {},
   "outputs": [],
   "source": [
    "short_expression = pd.DataFrame(columns=['30min', '1h', '2h', '4h'])"
   ]
  },
  {
   "cell_type": "code",
   "execution_count": 47,
   "metadata": {},
   "outputs": [],
   "source": [
    "short_expression['30min'] = y240_MA[299, with_data]\n",
    "short_expression['1h'] = y240_MA[599, with_data]\n",
    "short_expression['2h'] = y240_MA[1199, with_data]\n",
    "short_expression['4h'] = y240_MA[2399, with_data]"
   ]
  },
  {
   "cell_type": "code",
   "execution_count": 48,
   "metadata": {},
   "outputs": [],
   "source": [
    "short_expression.index = with_data"
   ]
  },
  {
   "cell_type": "code",
   "execution_count": 49,
   "metadata": {},
   "outputs": [],
   "source": [
    "kmeans2 = cluster.KMeans(n_clusters=11, n_init=200).fit(np.log2(short_expression))\n",
    "X2 = kmeans2.labels_"
   ]
  },
  {
   "cell_type": "code",
   "execution_count": 50,
   "metadata": {},
   "outputs": [],
   "source": [
    "Cluster_res2 = collections.defaultdict(list)\n",
    "for i in range(len(X2)):\n",
    "    Cluster_res2[X2[i]].append(with_data[i])\n",
    "\n",
    "clus_com2 = collections.defaultdict(list)\n",
    "for j in transcription_factors:\n",
    "    a_tra = set(revi_xxx[revi_xxx['Start'] == j]['End_Index'].tolist())\n",
    "    for i in range(11):\n",
    "        clus_com2[j].append(len(set(Cluster_res2[i]).intersection(a_tra))/len(a_tra))\n",
    "\n",
    "re_clus2 = pd.DataFrame(columns = transcription_factors)\n",
    "for k in transcription_factors:\n",
    "    re_clus2[k] = clus_com2[k]"
   ]
  },
  {
   "cell_type": "code",
   "execution_count": 51,
   "metadata": {},
   "outputs": [
    {
     "data": {
      "text/plain": [
       "[Text(33,0.5,'Cluster Centroid'), Text(0.5,15,'Transcription Factors')]"
      ]
     },
     "execution_count": 51,
     "metadata": {},
     "output_type": "execute_result"
    },
    {
     "data": {
      "image/png": "[encoded data removed]",
      "text/plain": [
       "<Figure size 432x288 with 2 Axes>"
      ]
     },
     "metadata": {},
     "output_type": "display_data"
    }
   ],
   "source": [
    "ax_plot = sns.heatmap(re_clus2, cmap=\"Blues\")\n",
    "plt.yticks(rotation=1) \n",
    "ax_plot.invert_yaxis()\n",
    "ax_plot.set(ylabel='Cluster Centroid', xlabel='Transcription Factors')"
   ]
  },
  {
   "cell_type": "code",
   "execution_count": null,
   "metadata": {},
   "outputs": [],
   "source": []
  },
  {
   "cell_type": "code",
   "execution_count": null,
   "metadata": {},
   "outputs": [],
   "source": []
  },
  {
   "cell_type": "code",
   "execution_count": null,
   "metadata": {},
   "outputs": [],
   "source": []
  },
  {
   "cell_type": "code",
   "execution_count": null,
   "metadata": {},
   "outputs": [],
   "source": []
  },
  {
   "cell_type": "code",
   "execution_count": null,
   "metadata": {},
   "outputs": [],
   "source": []
  },
  {
   "cell_type": "code",
   "execution_count": null,
   "metadata": {},
   "outputs": [],
   "source": []
  }
 ],
 "metadata": {
  "kernelspec": {
   "display_name": "Python 3",
   "language": "python",
   "name": "python3"
  },
  "language_info": {
   "codemirror_mode": {
    "name": "ipython",
    "version": 3
   },
   "file_extension": ".py",
   "mimetype": "text/x-python",
   "name": "python",
   "nbconvert_exporter": "python",
   "pygments_lexer": "ipython3",
   "version": "3.7.3"
  }
 },
 "nbformat": 4,
 "nbformat_minor": 2
}
