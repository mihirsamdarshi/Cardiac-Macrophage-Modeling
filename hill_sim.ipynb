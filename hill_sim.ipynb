{
 "cells": [
  {
   "cell_type": "markdown",
   "metadata": {},
   "source": [
    "## Cardiac Regulatory Network for CMRG\n",
    "### CRNC developed by Shulin Cao\n",
    "### Only for use in CMRG"
   ]
  },
  {
   "cell_type": "code",
   "execution_count": 82,
   "metadata": {},
   "outputs": [],
   "source": [
    "###------Network Simulator------###\n",
    "###------Shulin Cao------###\n",
    "###------CMRG, UC San Diego------###\n",
    "\n",
    "###import packages###\n",
    "import pandas as pd\n",
    "import collections\n",
    "import timeit\n",
    "from scipy.integrate import solve_ivp\n",
    "from scipy.integrate import odeint\n",
    "import matplotlib.pyplot as plt\n",
    "import networkx as nx\n",
    "import matplotlib.mlab as mlab\n",
    "import statistics\n",
    "import random\n",
    "import numpy.linalg\n",
    "import numpy as np\n",
    "import sys\n",
    "from scipy.optimize import minimize\n",
    "elapsed_time = timeit.default_timer()\n",
    "from sklearn.linear_model import LinearRegression\n",
    "from sklearn import cluster\n",
    "import seaborn as sns\n",
    "sns.set()\n",
    "from sklearn import datasets\n",
    "from sklearn.metrics import r2_score\n",
    "import csv"
   ]
  },
  {
   "cell_type": "code",
   "execution_count": 83,
   "metadata": {},
   "outputs": [],
   "source": [
    "def get_reactors(reac):\n",
    "    reac_split = reac.split(' ')\n",
    "    reactors = []\n",
    "    for k in reac_split:\n",
    "        if k != '&' and k!= '=>':\n",
    "            reactors.append(k)\n",
    "    return reactors[:-1]"
   ]
  },
  {
   "cell_type": "code",
   "execution_count": 84,
   "metadata": {},
   "outputs": [],
   "source": [
    "def Hill(reactor, n, EC50):\n",
    "    B = (EC50**n-1)/(2*EC50**n-1)\n",
    "    C = (B-1)**(1/n)\n",
    "    \n",
    "    if reactor[0] == '!':\n",
    "        return (1-B*globals()['{}'.format(reactor[1:])]**n/(C**n + globals()['{}'.format(reactor[1:])]**n))\n",
    "    else:\n",
    "        return B*globals()['{}'.format(reactor)]**n/(C**n + globals()['{}'.format(reactor)]**n)"
   ]
  },
  {
   "cell_type": "code",
   "execution_count": 85,
   "metadata": {},
   "outputs": [],
   "source": [
    "# def Ficks(c, x, D):\n",
    "    # Assuming c and x are numpy arrays of equal size and D is a scalar\n",
    " #   deltaC = np.diff(c)\n",
    " #   deltaX = np.diff(x)\n",
    "\n",
    " #  return -D * deltaC / deltaX"
   ]
  },
  {
   "cell_type": "code",
   "execution_count": 86,
   "metadata": {},
   "outputs": [],
   "source": [
    "def OR(reaction_list):\n",
    "    tera = (-1)**(len(reaction_list)+1)\n",
    "    for k in reaction_list:\n",
    "        weight, n, EC50 = reaction_list[k]\n",
    "        final = weight\n",
    "        for j in get_reactors(k):\n",
    "            final *= Hill(j, n, EC50)\n",
    "        tera *= (final-1)\n",
    "    tera +=1\n",
    "    return tera"
   ]
  },
  {
   "cell_type": "code",
   "execution_count": 87,
   "metadata": {},
   "outputs": [],
   "source": [
    "def inte(state,t,reaction_dict):\n",
    "    for i in range(len(node_ID)):\n",
    "        globals()['{}'.format(node_ID[i])] = state[i]\n",
    "    for i in range(len(node_ID)):\n",
    "        if len(reaction_dict[node_ID[i]]) == 1:\n",
    "            reactors = get_reactors(list(reaction_dict[node_ID[i]].keys())[0])\n",
    "            weight, n, EC50 = reaction_dict[node_ID[i]][list(reaction_dict[node_ID[i]].keys())[0]]\n",
    "            TF = 1\n",
    "            for j in reactors:\n",
    "                TF *= Hill(j, n, EC50)\n",
    "            globals()['{}'.format(node_ID[i] + 'd')] = (TF*weight*Ymax[i]-globals()['{}'.format(node_ID[i])])/tau[i]\n",
    "        else:\n",
    "            TF = OR(reaction_dict[node_ID[i]])\n",
    "            globals()['{}'.format(node_ID[i] + 'd')] = (TF*Ymax[i]-globals()['{}'.format(node_ID[i])])/tau[i]\n",
    "        #print(str(i)+' finished')\n",
    "    return [globals()['{}'.format(k+ 'd')] for k in node_ID]"
   ]
  },
  {
   "cell_type": "code",
   "execution_count": 88,
   "metadata": {},
   "outputs": [],
   "source": [
    "def hill_simulation( t, state0, reaction_dict):\n",
    "    yHill_ss = odeint(inte, state0, t, args = (reaction_dict,))\n",
    "    print('Hill Finished')\n",
    "    return yHill_ss"
   ]
  },
  {
   "cell_type": "code",
   "execution_count": 100,
   "metadata": {},
   "outputs": [],
   "source": [
    "inhibition = '/Users/mihir/Documents/Summer/Models/macrophage_model.xlsx'\n",
    "no_inhibition = '/Users/mihir/Documents/Summer/Models/macrophage_model_no_inhibition.xlsx'\n",
    "\n",
    "active = no_inhibition"
   ]
  },
  {
   "cell_type": "code",
   "execution_count": 101,
   "metadata": {},
   "outputs": [],
   "source": [
    "###################-------------------------------###################\n",
    "###################----------Loading Data---------###################\n",
    "###################-------------------------------###################\n",
    "\n",
    "reactions = pd.read_excel(active, sheet_name = 1, skiprows = 1, header = 0)\n",
    "species = pd.read_excel(active, sheet_name = 0, skiprows = 1, header = 0)\n",
    "pmid = reactions['PMID'].tolist()\n",
    "reactions = reactions[['Rule', 'Weight', 'n', 'EC50']]\n",
    "species = species[['ID', 'Yinit', 'Ymax', 'tau']]\n",
    "node_ID = species['ID'].tolist()\n",
    "Yinit = species['Yinit'].tolist()\n",
    "Ymax = species['Ymax'].tolist()\n",
    "Ymax2 = species['Ymax'].tolist()\n",
    "tau = species['tau'].tolist()\n",
    "\n",
    "reaction_dict = collections.defaultdict(dict)\n",
    "for k in range(len(reactions)):\n",
    "    node = reactions.loc[k, 'Rule'].split(' ')\n",
    "    reaction_dict[node[-1]][reactions.loc[k, 'Rule']] = reactions.loc[k, ['Weight', 'n', 'EC50']].tolist()\n",
    "\n",
    "\n",
    "species_dict = dict()\n",
    "for k in range(len(species)):\n",
    "    #lis = species.loc[k, ['Yinit', 'Ymax', 'tau']].tolist()\n",
    "    species_dict[species.loc[k, 'ID']] = species.loc[k, ['Yinit', 'Ymax', 'tau']].tolist()\n",
    "\n",
    "\n",
    "y0_MA = []\n",
    "y30m_MA = []\n",
    "y30m_MA_trans = []\n",
    "y4h_MA = []\n",
    "y4h_MA_trans = []\n",
    "for i in range(len(node_ID)):\n",
    "    y0_MA.append(Yinit[i])\n",
    "    y30m_MA.append(Yinit[i])\n",
    "    y30m_MA_trans.append(Yinit[i])\n",
    "    y4h_MA.append(Yinit[i])\n",
    "    y4h_MA_trans.append(Yinit[i])"
   ]
  },
  {
   "cell_type": "code",
   "execution_count": 102,
   "metadata": {},
   "outputs": [],
   "source": [
    "geneinput = {i:0 for i in node_ID[98:]}"
   ]
  },
  {
   "cell_type": "code",
   "execution_count": 103,
   "metadata": {},
   "outputs": [],
   "source": [
    "for j in node_ID[98:]:\n",
    "    for k in reaction_dict[j]:\n",
    "        if '!' in k:\n",
    "            geneinput[j] = 0.5\n",
    "            break"
   ]
  },
  {
   "cell_type": "markdown",
   "metadata": {},
   "source": [
    "### Step 1 Finalize the baseline"
   ]
  },
  {
   "cell_type": "code",
   "execution_count": 104,
   "metadata": {
    "scrolled": true
   },
   "outputs": [
    {
     "name": "stdout",
     "output_type": "stream",
     "text": [
      "Hill Finished\n"
     ]
    }
   ],
   "source": [
    "state0 = []\n",
    "for k in range(len(node_ID)):\n",
    "    state0.append(Yinit[k])  #solve_ivp\n",
    "\n",
    "t = np.arange(0.0, 80, 0.01)\n",
    "yHill_ss = hill_simulation(t, state0, reaction_dict)"
   ]
  },
  {
   "cell_type": "markdown",
   "metadata": {},
   "source": [
    "### Basic Plots"
   ]
  },
  {
   "cell_type": "code",
   "execution_count": 105,
   "metadata": {
    "scrolled": true
   },
   "outputs": [
    {
     "data": {
      "image/png": "[encoded data removed]",
      "text/plain": [
       "<Figure size 864x288 with 1 Axes>"
      ]
     },
     "metadata": {},
     "output_type": "display_data"
    }
   ],
   "source": [
    "k=10000\n",
    "plt.figure(figsize=(12,4))\n",
    "plt.subplot(122)\n",
    "plt.plot(t[:k], yHill_ss[:k,14], label = node_ID[14])\n",
    "plt.legend(loc='best')\n",
    "plt.show()"
   ]
  },
  {
   "cell_type": "markdown",
   "metadata": {},
   "source": [
    "### Export Data to CSV"
   ]
  },
  {
   "cell_type": "code",
   "execution_count": null,
   "metadata": {
    "scrolled": false
   },
   "outputs": [],
   "source": [
    "print(t[:k])"
   ]
  },
  {
   "cell_type": "code",
   "execution_count": null,
   "metadata": {},
   "outputs": [],
   "source": []
  },
  {
   "cell_type": "code",
   "execution_count": null,
   "metadata": {},
   "outputs": [],
   "source": []
  }
 ],
 "metadata": {
  "kernelspec": {
   "display_name": "Python 3",
   "language": "python",
   "name": "python3"
  },
  "language_info": {
   "codemirror_mode": {
    "name": "ipython",
    "version": 3
   },
   "file_extension": ".py",
   "mimetype": "text/x-python",
   "name": "python",
   "nbconvert_exporter": "python",
   "pygments_lexer": "ipython3",
   "version": "3.7.3"
  }
 },
 "nbformat": 4,
 "nbformat_minor": 2
}
